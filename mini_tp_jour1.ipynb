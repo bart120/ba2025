{
 "cells": [
  {
   "cell_type": "markdown",
   "id": "997aa6cd",
   "metadata": {},
   "source": [
    "# 🧪 Mini TP – Jour 1 : Suivi des employés\n",
    "\n",
    "Dans ce TP, vous allez manipuler une liste d'employés sous forme de dictionnaires. Vous utiliserez vos connaissances sur les boucles, les conditions, les fonctions et les structures de données."
   ]
  },
  {
   "cell_type": "code",
   "execution_count": null,
   "id": "ffb4d852",
   "metadata": {},
   "outputs": [],
   "source": [
    "# ✅ Voici la liste d'employés\n",
    "employes = [\n",
    "    {\"nom\": \"Alice\", \"service\": \"RH\", \"annee_embauche\": 2015, \"salaire\": 2500},\n",
    "    {\"nom\": \"Bob\", \"service\": \"IT\", \"annee_embauche\": 2012, \"salaire\": 3000},\n",
    "    {\"nom\": \"Chloé\", \"service\": \"Finance\", \"annee_embauche\": 2021, \"salaire\": 2400},\n",
    "    {\"nom\": \"David\", \"service\": \"IT\", \"annee_embauche\": 2010, \"salaire\": 3200},\n",
    "    {\"nom\": \"Emma\", \"service\": \"RH\", \"annee_embauche\": 2018, \"salaire\": 2600}\n",
    "]"
   ]
  },
  {
   "cell_type": "markdown",
   "id": "fcadf248",
   "metadata": {},
   "source": [
    "## 1️⃣ Afficher tous les noms des employés"
   ]
  },
  {
   "cell_type": "code",
   "execution_count": null,
   "id": "ed29976b",
   "metadata": {},
   "outputs": [],
   "source": [
    "# À compléter ici"
   ]
  },
  {
   "cell_type": "markdown",
   "id": "1f9e698e",
   "metadata": {},
   "source": [
    "## 2️⃣ Calculer et afficher l'ancienneté de chaque employé (en 2025)"
   ]
  },
  {
   "cell_type": "code",
   "execution_count": null,
   "id": "4823d8d1",
   "metadata": {},
   "outputs": [],
   "source": [
    "# À compléter ici"
   ]
  },
  {
   "cell_type": "markdown",
   "id": "fa1d1351",
   "metadata": {},
   "source": [
    "## 3️⃣ Afficher les employés ayant plus de 10 ans d’ancienneté"
   ]
  },
  {
   "cell_type": "code",
   "execution_count": null,
   "id": "a79f9df0",
   "metadata": {},
   "outputs": [],
   "source": [
    "# À compléter ici"
   ]
  },
  {
   "cell_type": "markdown",
   "id": "06c0b9b3",
   "metadata": {},
   "source": [
    "## 4️⃣ Calculer le salaire moyen de l'entreprise"
   ]
  },
  {
   "cell_type": "code",
   "execution_count": null,
   "id": "837a565d",
   "metadata": {},
   "outputs": [],
   "source": [
    "# À compléter ici"
   ]
  },
  {
   "cell_type": "markdown",
   "id": "4a26f802",
   "metadata": {},
   "source": [
    "## 5️⃣ Afficher les employés du service IT"
   ]
  },
  {
   "cell_type": "code",
   "execution_count": null,
   "id": "49d77925",
   "metadata": {},
   "outputs": [],
   "source": [
    "# À compléter ici"
   ]
  },
  {
   "cell_type": "markdown",
   "id": "ef9f9a5d",
   "metadata": {},
   "source": [
    "## 6️⃣ Créer une fonction `employes_par_service(service)` qui retourne les employés du service donné"
   ]
  },
  {
   "cell_type": "code",
   "execution_count": null,
   "id": "9b8c8d06",
   "metadata": {},
   "outputs": [],
   "source": [
    "# À compléter ici"
   ]
  },
  {
   "cell_type": "markdown",
   "id": "5c7cc384",
   "metadata": {},
   "source": [
    "## 💡 Bonus : Trier les employés par salaire décroissant"
   ]
  },
  {
   "cell_type": "code",
   "execution_count": null,
   "id": "42fabc23",
   "metadata": {},
   "outputs": [],
   "source": [
    "# À compléter ici"
   ]
  },
  {
   "cell_type": "markdown",
   "id": "c34c5243",
   "metadata": {},
   "source": [
    "## 💡 Bonus : Ajouter un nouvel employé"
   ]
  },
  {
   "cell_type": "code",
   "execution_count": null,
   "id": "8f1e1d57",
   "metadata": {},
   "outputs": [],
   "source": [
    "# À compléter ici"
   ]
  },
  {
   "cell_type": "markdown",
   "id": "0d095b77",
   "metadata": {},
   "source": [
    "## 💡 Bonus : Afficher toutes les données proprement (export simulé)"
   ]
  },
  {
   "cell_type": "code",
   "execution_count": null,
   "id": "a6062593",
   "metadata": {},
   "outputs": [],
   "source": [
    "# À compléter ici"
   ]
  }
 ],
 "metadata": {},
 "nbformat": 4,
 "nbformat_minor": 5
}
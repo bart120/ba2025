{
 "cells": [
  {
   "cell_type": "markdown",
   "id": "6aaa9c12",
   "metadata": {},
   "source": [
    "# ✅ Corrigé – Mini TP Jour 1 : Suivi des employés"
   ]
  },
  {
   "cell_type": "code",
   "execution_count": null,
   "id": "83f91316",
   "metadata": {},
   "outputs": [],
   "source": [
    "# Liste d'employés\n",
    "employes = [\n",
    "    {\"nom\": \"Alice\", \"service\": \"RH\", \"annee_embauche\": 2015, \"salaire\": 2500},\n",
    "    {\"nom\": \"Bob\", \"service\": \"IT\", \"annee_embauche\": 2012, \"salaire\": 3000},\n",
    "    {\"nom\": \"Chloé\", \"service\": \"Finance\", \"annee_embauche\": 2021, \"salaire\": 2400},\n",
    "    {\"nom\": \"David\", \"service\": \"IT\", \"annee_embauche\": 2010, \"salaire\": 3200},\n",
    "    {\"nom\": \"Emma\", \"service\": \"RH\", \"annee_embauche\": 2018, \"salaire\": 2600}\n",
    "]"
   ]
  },
  {
   "cell_type": "markdown",
   "id": "ee7e37cc",
   "metadata": {},
   "source": [
    "## 1️⃣ Afficher tous les noms des employés"
   ]
  },
  {
   "cell_type": "code",
   "execution_count": null,
   "id": "afb6aa9c",
   "metadata": {},
   "outputs": [],
   "source": [
    "for e in employes:\n",
    "    print(e[\"nom\"])"
   ]
  },
  {
   "cell_type": "markdown",
   "id": "3d29d85a",
   "metadata": {},
   "source": [
    "## 2️⃣ Calculer et afficher l'ancienneté de chaque employé (en 2025)"
   ]
  },
  {
   "cell_type": "code",
   "execution_count": null,
   "id": "394afc72",
   "metadata": {},
   "outputs": [],
   "source": [
    "for e in employes:\n",
    "    anciennete = 2025 - e[\"annee_embauche\"]\n",
    "    print(f\"{e['nom']} - {anciennete} ans\")"
   ]
  },
  {
   "cell_type": "markdown",
   "id": "f19a73c0",
   "metadata": {},
   "source": [
    "## 3️⃣ Afficher les employés ayant plus de 10 ans d’ancienneté"
   ]
  },
  {
   "cell_type": "code",
   "execution_count": null,
   "id": "211f1754",
   "metadata": {},
   "outputs": [],
   "source": [
    "for e in employes:\n",
    "    if 2025 - e[\"annee_embauche\"] > 10:\n",
    "        print(e[\"nom\"])"
   ]
  },
  {
   "cell_type": "markdown",
   "id": "b08b6714",
   "metadata": {},
   "source": [
    "## 4️⃣ Calculer le salaire moyen de l'entreprise"
   ]
  },
  {
   "cell_type": "code",
   "execution_count": null,
   "id": "55b761ea",
   "metadata": {},
   "outputs": [],
   "source": [
    "total = sum(e[\"salaire\"] for e in employes)\n",
    "moyenne = total / len(employes)\n",
    "print(\"Salaire moyen :\", moyenne)"
   ]
  },
  {
   "cell_type": "markdown",
   "id": "324fa542",
   "metadata": {},
   "source": [
    "## 5️⃣ Afficher les employés du service IT"
   ]
  },
  {
   "cell_type": "code",
   "execution_count": null,
   "id": "39f5ac8c",
   "metadata": {},
   "outputs": [],
   "source": [
    "for e in employes:\n",
    "    if e[\"service\"] == \"IT\":\n",
    "        print(e)"
   ]
  },
  {
   "cell_type": "markdown",
   "id": "c38980f7",
   "metadata": {},
   "source": [
    "## 6️⃣ Fonction : employés par service"
   ]
  },
  {
   "cell_type": "code",
   "execution_count": null,
   "id": "b21db4a2",
   "metadata": {},
   "outputs": [],
   "source": [
    "def employes_par_service(service):\n",
    "    return [e for e in employes if e[\"service\"] == service]\n",
    "\n",
    "print(employes_par_service(\"RH\"))"
   ]
  },
  {
   "cell_type": "markdown",
   "id": "678a03bf",
   "metadata": {},
   "source": [
    "## 💡 Bonus : Trier les employés par salaire décroissant"
   ]
  },
  {
   "cell_type": "code",
   "execution_count": null,
   "id": "8abc8eba",
   "metadata": {},
   "outputs": [],
   "source": [
    "employes_tries = sorted(employes, key=lambda e: e[\"salaire\"], reverse=True)\n",
    "for e in employes_tries:\n",
    "    print(e)"
   ]
  },
  {
   "cell_type": "markdown",
   "id": "c81cbd49",
   "metadata": {},
   "source": [
    "## 💡 Bonus : Ajouter un nouvel employé"
   ]
  },
  {
   "cell_type": "code",
   "execution_count": null,
   "id": "09bf74ee",
   "metadata": {},
   "outputs": [],
   "source": [
    "nouveau = {\"nom\": \"Luc\", \"service\": \"Finance\", \"annee_embauche\": 2023, \"salaire\": 2800}\n",
    "employes.append(nouveau)\n",
    "print(employes[-1])"
   ]
  },
  {
   "cell_type": "markdown",
   "id": "6dc5bbcf",
   "metadata": {},
   "source": [
    "## 💡 Bonus : Export simulé des données"
   ]
  },
  {
   "cell_type": "code",
   "execution_count": null,
   "id": "f329a76e",
   "metadata": {},
   "outputs": [],
   "source": [
    "for e in employes:\n",
    "    print(f\"{e['nom']} | {e['service']} | {e['annee_embauche']} | {e['salaire']} €\")"
   ]
  }
 ],
 "metadata": {},
 "nbformat": 4,
 "nbformat_minor": 5
}
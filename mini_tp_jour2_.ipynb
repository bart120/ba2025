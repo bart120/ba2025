{
 "cells": [
  {
   "cell_type": "markdown",
   "id": "8d3fdf02",
   "metadata": {},
   "source": [
    "# 🧪 Mini TP bis – Jour 2 : Analyse RH avancée avec Pandas\n",
    "\n",
    "Ce TP vous permettra de maîtriser des requêtes plus poussées sur vos données RH. À réaliser avec les fichiers `employes.csv` et `absences.xlsx`."
   ]
  },
  {
   "cell_type": "markdown",
   "id": "be651a6d",
   "metadata": {},
   "source": [
    "## 1️⃣ Combien d'employés par service ?\n",
    "Affichez le nombre total d'employés dans chaque service."
   ]
  },
  {
   "cell_type": "markdown",
   "id": "e22aa495",
   "metadata": {},
   "source": [
    "## 2️⃣ Quels sont les salaires moyens, minimum et maximum par service ?\n",
    "Utilisez des fonctions d'agrégation pour afficher ces statistiques."
   ]
  },
  {
   "cell_type": "markdown",
   "id": "50bf271b",
   "metadata": {},
   "source": [
    "## 3️⃣ Quelle est l'ancienneté moyenne et médiane par service ?\n",
    "Ajoutez les colonnes nécessaires si elles n'existent pas."
   ]
  },
  {
   "cell_type": "markdown",
   "id": "d39f8558",
   "metadata": {},
   "source": [
    "## 4️⃣ Listez les employés embauchés avant le 1er janvier 2015.\n",
    "Affichez leur nom, service et date d'embauche."
   ]
  },
  {
   "cell_type": "markdown",
   "id": "18e70f46",
   "metadata": {},
   "source": [
    "## 5️⃣ Quel est le taux d’absentéisme individuel ?\n",
    "Taux = jours d'absence / ancienneté. Affichez pour chaque employé."
   ]
  },
  {
   "cell_type": "markdown",
   "id": "ce5d31b2",
   "metadata": {},
   "source": [
    "## 6️⃣ Quels employés ont un taux d’absentéisme > 1 jour/an ?\n",
    "Affichez leur nom, service et taux."
   ]
  },
  {
   "cell_type": "markdown",
   "id": "8de3fdf4",
   "metadata": {},
   "source": [
    "## 7️⃣ Quelle est la répartition hommes/femmes par service ?\n",
    "Utilisez des comptages groupés sur les deux colonnes."
   ]
  },
  {
   "cell_type": "markdown",
   "id": "3157a8ab",
   "metadata": {},
   "source": [
    "## 8️⃣ Quelle est l’ancienneté moyenne selon le genre ?\n",
    "Comparez les résultats entre hommes et femmes."
   ]
  },
  {
   "cell_type": "markdown",
   "id": "2d834e30",
   "metadata": {},
   "source": [
    "## 9️⃣ Y a-t-il des employés expérimentés mal payés ?\n",
    "Listez ceux avec >10 ans d’ancienneté et un salaire < moyenne globale."
   ]
  },
  {
   "cell_type": "markdown",
   "id": "18b77e2f",
   "metadata": {},
   "source": [
    "## 🔟 Générez un rapport de synthèse RH\n",
    "Colonnes : Nom, Sexe, Service, Ancienneté, Salaire, Taux d’absentéisme.\n",
    "Exportez ce tableau en fichier Excel."
   ]
  }
 ],
 "metadata": {},
 "nbformat": 4,
 "nbformat_minor": 5
}
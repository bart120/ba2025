{
 "cells": [
  {
   "cell_type": "markdown",
   "id": "5889e1ce",
   "metadata": {},
   "source": [
    "# ✅ Corrigé – Mini TP bis – Jour 2 : Analyse RH avancée avec Pandas"
   ]
  },
  {
   "cell_type": "code",
   "execution_count": null,
   "id": "512040ee",
   "metadata": {},
   "outputs": [],
   "source": [
    "import pandas as pd\n",
    "\n",
    "# Chargement des données\n",
    "employes = pd.read_csv(\"employes.csv\")\n",
    "absences = pd.read_excel(\"absences.xlsx\")\n",
    "\n",
    "# Nettoyage initial\n",
    "employes[\"Date_Embauche\"] = pd.to_datetime(employes[\"Date_Embauche\"])\n",
    "absences[\"Date\"] = pd.to_datetime(absences[\"Date\"])\n",
    "employes[\"Salaire\"] = employes[\"Salaire\"].fillna(employes[\"Salaire\"].mean())\n",
    "employes[\"Anciennete\"] = 2025 - employes[\"Date_Embauche\"].dt.year\n",
    "\n",
    "# Fusion des données\n",
    "merged = pd.merge(employes, absences, on=\"ID\", how=\"left\")"
   ]
  },
  {
   "cell_type": "markdown",
   "id": "b5e0f11a",
   "metadata": {},
   "source": [
    "## 1️⃣ Nombre d'employés par service"
   ]
  },
  {
   "cell_type": "code",
   "execution_count": null,
   "id": "91696b07",
   "metadata": {},
   "outputs": [],
   "source": [
    "print(employes['Service'].value_counts())"
   ]
  },
  {
   "cell_type": "markdown",
   "id": "1e613275",
   "metadata": {},
   "source": [
    "## 2️⃣ Salaire moyen, min, max par service"
   ]
  },
  {
   "cell_type": "code",
   "execution_count": null,
   "id": "347fb833",
   "metadata": {},
   "outputs": [],
   "source": [
    "print(employes.groupby('Service')['Salaire'].agg(['mean', 'min', 'max']))"
   ]
  },
  {
   "cell_type": "markdown",
   "id": "3fc467ca",
   "metadata": {},
   "source": [
    "## 3️⃣ Ancienneté moyenne et médiane par service"
   ]
  },
  {
   "cell_type": "code",
   "execution_count": null,
   "id": "2701272e",
   "metadata": {},
   "outputs": [],
   "source": [
    "print(employes.groupby('Service')['Anciennete'].agg(['mean', 'median']))"
   ]
  },
  {
   "cell_type": "markdown",
   "id": "c7cc0725",
   "metadata": {},
   "source": [
    "## 4️⃣ Employés embauchés avant 2015"
   ]
  },
  {
   "cell_type": "code",
   "execution_count": null,
   "id": "f20145e7",
   "metadata": {},
   "outputs": [],
   "source": [
    "print(employes[employes['Date_Embauche'] < '2015-01-01'][['Nom', 'Service', 'Date_Embauche']])"
   ]
  },
  {
   "cell_type": "markdown",
   "id": "6c669d4c",
   "metadata": {},
   "source": [
    "## 5️⃣ Taux d’absentéisme individuel"
   ]
  },
  {
   "cell_type": "code",
   "execution_count": null,
   "id": "adeb29fc",
   "metadata": {},
   "outputs": [
    {
     "ename": "NameError",
     "evalue": "name 'merged' is not defined",
     "output_type": "error",
     "traceback": [
      "\u001b[31m---------------------------------------------------------------------------\u001b[39m",
      "\u001b[31mNameError\u001b[39m                                 Traceback (most recent call last)",
      "\u001b[36mCell\u001b[39m\u001b[36m \u001b[39m\u001b[32mIn[1]\u001b[39m\u001b[32m, line 1\u001b[39m\n\u001b[32m----> \u001b[39m\u001b[32m1\u001b[39m abs_total = \u001b[43mmerged\u001b[49m.groupby(\u001b[33m'\u001b[39m\u001b[33mID\u001b[39m\u001b[33m'\u001b[39m)[\u001b[33m'\u001b[39m\u001b[33mDuree\u001b[39m\u001b[33m'\u001b[39m].sum().reset_index()\n\u001b[32m      2\u001b[39m df = pd.merge(employes, abs_total, on=\u001b[33m'\u001b[39m\u001b[33mID\u001b[39m\u001b[33m'\u001b[39m, how=\u001b[33m'\u001b[39m\u001b[33mleft\u001b[39m\u001b[33m'\u001b[39m).fillna(\u001b[32m0\u001b[39m)\n\u001b[32m      3\u001b[39m df[\u001b[33m'\u001b[39m\u001b[33mTaux_absenteisme\u001b[39m\u001b[33m'\u001b[39m] = df[\u001b[33m'\u001b[39m\u001b[33mDuree\u001b[39m\u001b[33m'\u001b[39m] / df[\u001b[33m'\u001b[39m\u001b[33mAnciennete\u001b[39m\u001b[33m'\u001b[39m]\n",
      "\u001b[31mNameError\u001b[39m: name 'merged' is not defined"
     ]
    }
   ],
   "source": [
    "abs_total = merged.groupby('ID')['Duree'].sum().reset_index()\n",
    "df = pd.merge(employes, abs_total, on='ID', how='left').fillna(0)\n",
    "df['Taux_absenteisme'] = df['Duree'] / df['Anciennete']\n",
    "print(df[['Nom', 'Anciennete', 'Duree', 'Taux_absenteisme']])"
   ]
  },
  {
   "cell_type": "markdown",
   "id": "6a1dc9f5",
   "metadata": {},
   "source": [
    "## 6️⃣ Employés avec taux d’absentéisme > 1 jour/an"
   ]
  },
  {
   "cell_type": "code",
   "execution_count": null,
   "id": "ed11ce8b",
   "metadata": {},
   "outputs": [],
   "source": [
    "print(df[df['Taux_absenteisme'] > 1][['Nom', 'Service', 'Taux_absenteisme']])"
   ]
  },
  {
   "cell_type": "markdown",
   "id": "a2f69518",
   "metadata": {},
   "source": [
    "## 7️⃣ Répartition hommes/femmes par service"
   ]
  },
  {
   "cell_type": "code",
   "execution_count": null,
   "id": "af0f2af5",
   "metadata": {},
   "outputs": [],
   "source": [
    "print(employes.groupby(['Service', 'Sexe'])['ID'].count().unstack())"
   ]
  },
  {
   "cell_type": "markdown",
   "id": "bec999d8",
   "metadata": {},
   "source": [
    "## 8️⃣ Ancienneté moyenne par genre"
   ]
  },
  {
   "cell_type": "code",
   "execution_count": null,
   "id": "ca64452b",
   "metadata": {},
   "outputs": [],
   "source": [
    "print(employes.groupby('Sexe')['Anciennete'].mean())"
   ]
  },
  {
   "cell_type": "markdown",
   "id": "788c3fb9",
   "metadata": {},
   "source": [
    "## 9️⃣ Employés >10 ans ancienneté & salaire < moyenne"
   ]
  },
  {
   "cell_type": "code",
   "execution_count": null,
   "id": "372678ce",
   "metadata": {},
   "outputs": [],
   "source": [
    "salaire_moyen = employes['Salaire'].mean()\n",
    "exp_mal_payes = employes[(employes['Anciennete'] > 10) & (employes['Salaire'] < salaire_moyen)]\n",
    "print(exp_mal_payes[['Nom', 'Anciennete', 'Salaire']])"
   ]
  },
  {
   "cell_type": "markdown",
   "id": "5156b264",
   "metadata": {},
   "source": [
    "## 🔟 Rapport RH final exporté en Excel"
   ]
  },
  {
   "cell_type": "code",
   "execution_count": null,
   "id": "19632ea8",
   "metadata": {},
   "outputs": [],
   "source": [
    "colonnes = ['Nom', 'Sexe', 'Service', 'Anciennete', 'Salaire', 'Taux_absenteisme']\n",
    "df[colonnes].to_excel('rapport_rh_final.xlsx', index=False)"
   ]
  }
 ],
 "metadata": {
  "kernelspec": {
   "display_name": "Python 3",
   "language": "python",
   "name": "python3"
  },
  "language_info": {
   "codemirror_mode": {
    "name": "ipython",
    "version": 3
   },
   "file_extension": ".py",
   "mimetype": "text/x-python",
   "name": "python",
   "nbconvert_exporter": "python",
   "pygments_lexer": "ipython3",
   "version": "3.13.3"
  }
 },
 "nbformat": 4,
 "nbformat_minor": 5
}

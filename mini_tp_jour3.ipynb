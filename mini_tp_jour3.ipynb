{
 "cells": [
  {
   "cell_type": "markdown",
   "id": "1bf41343",
   "metadata": {},
   "source": [
    "# 🧪 Mini TP enrichi – Jour 3 : Visualisation des données RH\n",
    "\n",
    "Réalisez les visualisations suivantes à partir des fichiers `employes.csv` et `absences.xlsx`. Utilisez `matplotlib` et `seaborn` pour illustrer les données RH de manière claire et impactante."
   ]
  },
  {
   "cell_type": "markdown",
   "id": "07ca7b54",
   "metadata": {},
   "source": [
    "## 1️⃣ Répartition de l'ancienneté\n",
    "- Créez un histogramme de l'ancienneté des employés (en années)"
   ]
  },
  {
   "cell_type": "markdown",
   "id": "35c95c61",
   "metadata": {},
   "source": [
    "## 2️⃣ Salaires par service\n",
    "- Affichez un boxplot comparant la distribution des salaires dans chaque service"
   ]
  },
  {
   "cell_type": "markdown",
   "id": "d8268834",
   "metadata": {},
   "source": [
    "## 3️⃣ Effectifs par service\n",
    "- Affichez un barplot du nombre d'employés dans chaque service"
   ]
  },
  {
   "cell_type": "markdown",
   "id": "7a24fada",
   "metadata": {},
   "source": [
    "## 4️⃣ Répartition hommes/femmes\n",
    "- Utilisez un countplot pour comparer le nombre d'hommes et de femmes"
   ]
  },
  {
   "cell_type": "markdown",
   "id": "e465b6b4",
   "metadata": {},
   "source": [
    "## 5️⃣ Absences cumulées sur l’année\n",
    "- Affichez une courbe montrant les jours d'absence cumulés par mois"
   ]
  },
  {
   "cell_type": "markdown",
   "id": "5b60b6ca",
   "metadata": {},
   "source": [
    "## 6️⃣ Heatmap des absences par mois et service\n",
    "- Créez une table croisée `Service x Mois` et tracez une heatmap correspondante"
   ]
  },
  {
   "cell_type": "markdown",
   "id": "745c21b4",
   "metadata": {},
   "source": [
    "## 7️⃣ Ancienneté moyenne par service\n",
    "- Créez un barplot de l’ancienneté moyenne par service"
   ]
  },
  {
   "cell_type": "markdown",
   "id": "660f43d1",
   "metadata": {},
   "source": [
    "## 8️⃣ Salaire moyen par genre\n",
    "- Comparez les salaires moyens entre hommes et femmes avec un barplot"
   ]
  },
  {
   "cell_type": "markdown",
   "id": "679764f7",
   "metadata": {},
   "source": [
    "## 9️⃣ Histogramme des salaires\n",
    "- Réalisez un histogramme des salaires globaux avec un binning pertinent"
   ]
  },
  {
   "cell_type": "markdown",
   "id": "f1c7b29f",
   "metadata": {},
   "source": [
    "## 🔟 Export de vos figures\n",
    "- Sauvegardez au moins deux des figures précédentes au format `.png` ou `.pdf` dans un dossier `figures/`"
   ]
  }
 ],
 "metadata": {},
 "nbformat": 4,
 "nbformat_minor": 5
}
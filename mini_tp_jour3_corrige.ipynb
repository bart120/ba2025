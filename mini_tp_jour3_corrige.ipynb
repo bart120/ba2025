{
 "cells": [
  {
   "cell_type": "markdown",
   "id": "f980f959",
   "metadata": {},
   "source": [
    "# ✅ Corrigé – Mini TP enrichi – Jour 3 : Visualisation des données RH"
   ]
  },
  {
   "cell_type": "code",
   "execution_count": null,
   "id": "b65e02dd",
   "metadata": {},
   "outputs": [],
   "source": [
    "import pandas as pd\n",
    "import matplotlib.pyplot as plt\n",
    "import seaborn as sns\n",
    "\n",
    "# Chargement et préparation des données\n",
    "employes = pd.read_csv(\"employes.csv\")\n",
    "absences = pd.read_excel(\"absences.xlsx\")\n",
    "\n",
    "employes[\"Date_Embauche\"] = pd.to_datetime(employes[\"Date_Embauche\"])\n",
    "absences[\"Date\"] = pd.to_datetime(absences[\"Date\"])\n",
    "employes[\"Anciennete\"] = 2025 - employes[\"Date_Embauche\"].dt.year"
   ]
  },
  {
   "cell_type": "markdown",
   "id": "a9355354",
   "metadata": {},
   "source": [
    "## 1️⃣ Histogramme de l'ancienneté"
   ]
  },
  {
   "cell_type": "code",
   "execution_count": null,
   "id": "ffe0bc44",
   "metadata": {},
   "outputs": [],
   "source": [
    "plt.figure(figsize=(8, 5))\n",
    "sns.histplot(employes[\"Anciennete\"], bins=10)\n",
    "plt.title(\"Répartition de l'ancienneté\")\n",
    "plt.xlabel(\"Ancienneté\")\n",
    "plt.ylabel(\"Nombre\")\n",
    "plt.tight_layout()\n",
    "plt.savefig(\"figures/anciennete_hist.png\")\n",
    "plt.show()"
   ]
  },
  {
   "cell_type": "markdown",
   "id": "18be46a1",
   "metadata": {},
   "source": [
    "## 2️⃣ Boxplot des salaires par service"
   ]
  },
  {
   "cell_type": "code",
   "execution_count": null,
   "id": "cbbad12c",
   "metadata": {},
   "outputs": [],
   "source": [
    "plt.figure(figsize=(8, 5))\n",
    "sns.boxplot(data=employes, x='Service', y='Salaire')\n",
    "plt.xticks(rotation=45)\n",
    "plt.title(\"Salaires par service\")\n",
    "plt.tight_layout()\n",
    "plt.savefig(\"figures/salaires_boxplot.png\")\n",
    "plt.show()"
   ]
  },
  {
   "cell_type": "markdown",
   "id": "c293f240",
   "metadata": {},
   "source": [
    "## 3️⃣ Barplot du nombre d'employés par service"
   ]
  },
  {
   "cell_type": "code",
   "execution_count": null,
   "id": "3882f4cf",
   "metadata": {},
   "outputs": [],
   "source": [
    "plt.figure(figsize=(7, 5))\n",
    "sns.countplot(x='Service', data=employes)\n",
    "plt.xticks(rotation=45)\n",
    "plt.title(\"Effectifs par service\")\n",
    "plt.tight_layout()\n",
    "plt.show()"
   ]
  },
  {
   "cell_type": "markdown",
   "id": "5af504c3",
   "metadata": {},
   "source": [
    "## 4️⃣ Répartition hommes/femmes"
   ]
  },
  {
   "cell_type": "code",
   "execution_count": null,
   "id": "78b8fa99",
   "metadata": {},
   "outputs": [],
   "source": [
    "plt.figure(figsize=(5, 5))\n",
    "sns.countplot(x='Sexe', data=employes)\n",
    "plt.title(\"Répartition hommes/femmes\")\n",
    "plt.tight_layout()\n",
    "plt.show()"
   ]
  },
  {
   "cell_type": "markdown",
   "id": "1cc0df8e",
   "metadata": {},
   "source": [
    "## 5️⃣ Courbe des absences cumulées"
   ]
  },
  {
   "cell_type": "code",
   "execution_count": null,
   "id": "79ea5768",
   "metadata": {},
   "outputs": [],
   "source": [
    "absences['Mois'] = absences['Date'].dt.to_period('M').astype(str)\n",
    "mensuel = absences.groupby('Mois')['Duree'].sum().cumsum()\n",
    "plt.figure(figsize=(8, 5))\n",
    "mensuel.plot(marker='o')\n",
    "plt.title(\"Absences cumulées\")\n",
    "plt.ylabel(\"Jours\")\n",
    "plt.xticks(rotation=45)\n",
    "plt.tight_layout()\n",
    "plt.savefig(\"figures/absences_cumulees.png\")\n",
    "plt.show()"
   ]
  },
  {
   "cell_type": "markdown",
   "id": "645c7a2f",
   "metadata": {},
   "source": [
    "## 6️⃣ Heatmap des absences par mois et service"
   ]
  },
  {
   "cell_type": "code",
   "execution_count": null,
   "id": "dabe75f0",
   "metadata": {},
   "outputs": [],
   "source": [
    "merged = pd.merge(absences, employes[['ID', 'Service']], on='ID', how='left')\n",
    "merged['Mois'] = merged['Date'].dt.to_period('M').astype(str)\n",
    "pivot = merged.pivot_table(index='Service', columns='Mois', values='Duree', aggfunc='sum').fillna(0)\n",
    "plt.figure(figsize=(10, 5))\n",
    "sns.heatmap(pivot, annot=True, fmt='.0f', cmap='YlOrBr')\n",
    "plt.title(\"Heatmap absences\")\n",
    "plt.tight_layout()\n",
    "plt.savefig(\"figures/heatmap_absences.png\")\n",
    "plt.show()"
   ]
  },
  {
   "cell_type": "markdown",
   "id": "ac15b203",
   "metadata": {},
   "source": [
    "## 7️⃣ Ancienneté moyenne par service"
   ]
  },
  {
   "cell_type": "code",
   "execution_count": null,
   "id": "55fdac35",
   "metadata": {},
   "outputs": [],
   "source": [
    "moy_ancien = employes.groupby('Service')['Anciennete'].mean().sort_values()\n",
    "plt.figure(figsize=(8, 5))\n",
    "sns.barplot(x=moy_ancien.values, y=moy_ancien.index)\n",
    "plt.title(\"Ancienneté moyenne par service\")\n",
    "plt.xlabel(\"Ancienneté\")\n",
    "plt.tight_layout()\n",
    "plt.show()"
   ]
  },
  {
   "cell_type": "markdown",
   "id": "95a52ad4",
   "metadata": {},
   "source": [
    "## 8️⃣ Salaire moyen par genre"
   ]
  },
  {
   "cell_type": "code",
   "execution_count": null,
   "id": "ac20091e",
   "metadata": {},
   "outputs": [],
   "source": [
    "moy_salaire = employes.groupby('Sexe')['Salaire'].mean().reset_index()\n",
    "plt.figure(figsize=(6, 4))\n",
    "sns.barplot(data=moy_salaire, x='Sexe', y='Salaire')\n",
    "plt.title(\"Salaire moyen par genre\")\n",
    "plt.tight_layout()\n",
    "plt.show()"
   ]
  },
  {
   "cell_type": "markdown",
   "id": "1d5f6ba2",
   "metadata": {},
   "source": [
    "## 9️⃣ Histogramme des salaires"
   ]
  },
  {
   "cell_type": "code",
   "execution_count": null,
   "id": "e69cc28a",
   "metadata": {},
   "outputs": [],
   "source": [
    "plt.figure(figsize=(7, 5))\n",
    "sns.histplot(employes['Salaire'], bins=15)\n",
    "plt.title(\"Distribution des salaires\")\n",
    "plt.xlabel(\"Salaire\")\n",
    "plt.tight_layout()\n",
    "plt.show()"
   ]
  },
  {
   "cell_type": "markdown",
   "id": "f33f551a",
   "metadata": {},
   "source": [
    "## 🔟 Export de figures\n",
    "(voir `plt.savefig()` plus haut dans chaque figure)"
   ]
  }
 ],
 "metadata": {},
 "nbformat": 4,
 "nbformat_minor": 5
}
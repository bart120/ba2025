{
 "cells": [
  {
   "cell_type": "markdown",
   "id": "ab642ff6",
   "metadata": {},
   "source": [
    "# 🧪 TP Final (3h) – Python pour Business Analysts\n",
    "\n",
    "**Durée :** 3h  \n",
    "**Notation :** /20\n",
    "\n",
    "---\n",
    "\n",
    "## 🎯 Objectif général\n",
    "Ce TP met en œuvre l’ensemble des compétences abordées dans le cours :\n",
    "- Traitement de données tabulaires\n",
    "- Analyse et visualisation\n",
    "- Automatisation et reporting\n",
    "- Utilisation d’API ou d’outils d’IA\n",
    "\n",
    "**Contexte :** Vous êtes analyste dans une société de services. Vous disposez de plusieurs jeux de données concernant des projets IT, les compétences des consultants et leurs missions. Vous allez devoir exploiter ces données pour produire des rapports utiles à la direction.\n"
   ]
  },
  {
   "cell_type": "markdown",
   "id": "c01c877f",
   "metadata": {},
   "source": [
    "## 📁 Fichiers fournis\n",
    "- `projets.csv` : liste des projets internes\n",
    "- `consultants.csv` : consultants (âge, techno, séniorité)\n",
    "- `missions.xlsx` : missions par consultant sur les projets"
   ]
  },
  {
   "cell_type": "markdown",
   "id": "fcd24539",
   "metadata": {},
   "source": [
    "## 🧹 Exercice 1 – Chargement et nettoyage des données (3 points)\n",
    "1. Charger les 3 fichiers dans des DataFrames\n",
    "2. Nettoyer les colonnes (dates, types)\n",
    "3. Ajouter une colonne `Anciennete` à `consultants.csv` basée sur l’année d’entrée"
   ]
  },
  {
   "cell_type": "markdown",
   "id": "319c84c2",
   "metadata": {},
   "source": [
    "## 📊 Exercice 2 – Visualisations de base (3 points)\n",
    "1. Histogramme du nombre de projets par année\n",
    "2. Répartition des consultants par technologie\n",
    "3. Boxplot de la durée des missions par techno"
   ]
  },
  {
   "cell_type": "markdown",
   "id": "c6b42331",
   "metadata": {},
   "source": [
    "## 🔄 Exercice 3 – Traitement automatisé (4 points)\n",
    "1. Créer une fonction qui reçoit un nom de techno et génère un fichier Excel contenant :\n",
    "   - la liste des consultants de cette techno\n",
    "   - les missions associées\n",
    "2. Ajouter un graphique au fichier Excel (histogramme ou barplot)"
   ]
  },
  {
   "cell_type": "markdown",
   "id": "0464e6d8",
   "metadata": {},
   "source": [
    "## 📈 Exercice 4 – Rapport PDF pour un chef de projet (4 points)\n",
    "1. Créer une fonction qui génère un rapport PDF contenant :\n",
    "   - Liste des consultants affectés à un projet donné (filtré par `projet_id`)\n",
    "   - Graphique de la répartition par séniorité\n",
    "   - Commentaire IA généré via un modèle (si possible)"
   ]
  },
  {
   "cell_type": "markdown",
   "id": "e3ac80d8",
   "metadata": {},
   "source": [
    "## 🧠 Exercice 5 – Enrichissement via IA (6 points)\n",
    "1. Pour chaque consultant, générer une phrase personnalisée de recommandation de formation\n",
    "2. Traduire tous les intitulés de projet en anglais\n",
    "3. Générer un rapport global de synthèse en langage naturel\n",
    "\n",
    "*(Si l’IA n’est pas accessible, écrire les prompts que vous utiliseriez.)*"
   ]
  },
  {
   "cell_type": "markdown",
   "id": "c4b2f5e6",
   "metadata": {},
   "source": [
    "## 📝 Barème indicatif\n",
    "- Données bien chargées/nettoyées : 3 pts\n",
    "- Visualisations correctes et lisibles : 3 pts\n",
    "- Automatisation + Excel : 4 pts\n",
    "- Rapport PDF structuré : 4 pts\n",
    "- IA ou prompts pertinents : 6 pts\n",
    "\n",
    "---\n",
    "\n",
    "### 💡 Conseils\n",
    "- Commentez bien chaque cellule.\n",
    "- Testez vos fonctions indépendamment.\n",
    "- Structurez clairement votre code.\n",
    "\n",
    "Bonne chance ! 💪"
   ]
  }
 ],
 "metadata": {},
 "nbformat": 4,
 "nbformat_minor": 5
}